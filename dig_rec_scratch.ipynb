{
 "cells": [
  {
   "cell_type": "code",
   "execution_count": 1,
   "metadata": {},
   "outputs": [],
   "source": [
    "import numpy as np\n",
    "import cv2"
   ]
  },
  {
   "cell_type": "code",
   "execution_count": 2,
   "metadata": {},
   "outputs": [],
   "source": [
    "def get_img_contour_thresh(img):\n",
    "    x, y, w, h = 0, 0, 300, 300\n",
    "    gray = cv2.cvtColor(img, cv2.COLOR_BGR2GRAY)\n",
    "    blur = cv2.GaussianBlur(gray, (35, 35), 0)\n",
    "    ret, thresh1 = cv2.threshold(blur, 70, 255, cv2.THRESH_BINARY_INV + cv2.THRESH_OTSU)\n",
    "    thresh1 = thresh1[y:y + h, x:x + w]\n",
    "    contours, hierarchy = cv2.findContours(thresh1, cv2.RETR_TREE, cv2.CHAIN_APPROX_SIMPLE)[-2:]\n",
    "    return img, contours, thresh1"
   ]
  },
  {
   "cell_type": "code",
   "execution_count": null,
   "metadata": {},
   "outputs": [],
   "source": [
    "cap = cv2.VideoCapture(0)\n",
    "\n",
    "while (cap.isOpened()):\n",
    "    ret, img = cap.read()\n",
    "    img, contours, thresh = get_img_contour_thresh(img)\n",
    "    ans1 = ''\n",
    "    ans2 = ''\n",
    "    ans3 = ''\n",
    "    if len(contours) > 0:\n",
    "        contour = max(contours, key=cv2.contourArea)\n",
    "        if cv2.contourArea(contour) > 2500:\n",
    "            # print(predict(w_from_model,b_from_model,contour))\n",
    "            x, y, w, h = cv2.boundingRect(contour)\n",
    "            # newImage = thresh[y - 15:y + h + 15, x - 15:x + w +15]\n",
    "            newImage = thresh[y:y + h, x:x + w]\n",
    "            newImage = cv2.resize(newImage, (28, 28))\n",
    "            newImage = np.array(newImage)\n",
    "            newImage = newImage.flatten()\n",
    "            newImage = newImage.reshape(newImage.shape[0], 1)\n",
    "            ans1 = 0 #Digit_Recognizer_LR.predict(w_LR, b_LR, newImage)\n",
    "            ans2 = 1 #Digit_Recognizer_NN.predict_nn(d2, newImage)\n",
    "            ans3 = 2 #Digit_Recognizer_DL.predict(d3, newImage)\n",
    "\n",
    "    x, y, w, h = 0, 0, 300, 300\n",
    "    cv2.rectangle(img, (x, y), (x + w, y + h), (0, 255, 0), 2)\n",
    "    cv2.putText(img, \"Logistic Regression : \" + str(ans1), (10, 320),\n",
    "                cv2.FONT_HERSHEY_SIMPLEX, 0.7, (0, 0, 255), 2)\n",
    "    cv2.putText(img, \"Shallow Network :  \" + str(ans2), (10, 350),\n",
    "                cv2.FONT_HERSHEY_SIMPLEX, 0.7, (0, 0, 255), 2)\n",
    "    cv2.putText(img, \"Deep Network :  \" + str(ans3), (10, 380),\n",
    "                cv2.FONT_HERSHEY_SIMPLEX, 0.7, (0, 0, 255), 2)\n",
    "    cv2.imshow(\"Frame\", img)\n",
    "    cv2.imshow(\"Contours\", thresh)\n",
    "    k = cv2.waitKey(10)\n",
    "    if k == 27:\n",
    "        break"
   ]
  },
  {
   "cell_type": "code",
   "execution_count": null,
   "metadata": {},
   "outputs": [],
   "source": []
  }
 ],
 "metadata": {
  "kernelspec": {
   "display_name": "Python 3",
   "language": "python",
   "name": "python3"
  },
  "language_info": {
   "codemirror_mode": {
    "name": "ipython",
    "version": 3
   },
   "file_extension": ".py",
   "mimetype": "text/x-python",
   "name": "python",
   "nbconvert_exporter": "python",
   "pygments_lexer": "ipython3",
   "version": "3.6.5"
  }
 },
 "nbformat": 4,
 "nbformat_minor": 2
}
